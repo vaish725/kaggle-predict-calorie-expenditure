{
 "cells": [
  {
   "cell_type": "markdown",
   "id": "380c7e51",
   "metadata": {},
   "source": [
    "# Step 2: Preprocessing\n",
    "Handle categorical variables, transform the target, and drop non-informative features.\n",
    "\n",
    "## Preprocessing Steps:\n",
    "1. Load the raw datasets\n",
    "2. Drop redundant ID columns\n",
    "3. Encode categorical features (Sex)\n",
    "4. Transform the target variable (Calories) using logarithmic transformation\n",
    "5. Save the preprocessed datasets\n",
    "\n",
    "## References:\n",
    "- Log transformation for right-skewed data: Hastie, T., Tibshirani, R., & Friedman, J. (2009). \"The Elements of Statistical Learning\"\n",
    "- One-hot encoding: Pedregosa et al. (2011). \"Scikit-learn: Machine Learning in Python\""
   ]
  },
  {
   "cell_type": "code",
   "execution_count": null,
   "id": "30554dc5",
   "metadata": {},
   "outputs": [],
   "source": [
    "# Import essential libraries for data manipulation\n",
    "import pandas as pd  # For data manipulation and analysis\n",
    "import numpy as np   # For numerical operations and mathematical functions\n",
    "\n",
    "# Load the raw training and test datasets from CSV files\n",
    "train = pd.read_csv('datasets/train.csv')  # Training data includes the target variable (Calories)\n",
    "test = pd.read_csv('datasets/test.csv')    # Test data is used for making predictions\n",
    "\n",
    "# Keep track of original test IDs for submission file creation later\n",
    "# We'll need these IDs to match our predictions with the correct test instances\n",
    "test_ids = test['id']"
   ]
  },
  {
   "cell_type": "code",
   "execution_count": null,
   "id": "31dfb13c",
   "metadata": {},
   "outputs": [],
   "source": [
    "# Drop 'id' column from both datasets as it's not useful for modeling\n",
    "# The 'id' is just a row identifier and has no predictive power\n",
    "train.drop(columns=['id'], inplace=True)  # Remove from training data\n",
    "test.drop(columns=['id'], inplace=True)   # Remove from test data"
   ]
  },
  {
   "cell_type": "code",
   "execution_count": null,
   "id": "4166ed76",
   "metadata": {},
   "outputs": [],
   "source": [
    "# One-hot encode the categorical 'Sex' variable\n",
    "# This converts the categorical variable into binary columns that machine learning models can use\n",
    "# We use drop_first=True to avoid multicollinearity (the \"dummy variable trap\")\n",
    "# This encoding will create a column 'Sex_male' where:\n",
    "# - 1 indicates male\n",
    "# - 0 indicates female (the dropped first category)\n",
    "train = pd.get_dummies(train, columns=['Sex'], drop_first=True)  # Apply to training data\n",
    "test = pd.get_dummies(test, columns=['Sex'], drop_first=True)    # Apply to test data"
   ]
  },
  {
   "cell_type": "code",
   "execution_count": null,
   "id": "529dfd9b",
   "metadata": {},
   "outputs": [],
   "source": [
    "# Log-transform the target variable (Calories) to address right-skewed distribution\n",
    "# We use log1p (log(x + 1)) instead of log(x) to handle possible zero values\n",
    "# Log transformation helps normalize the distribution and can improve model performance\n",
    "# This is especially beneficial for RMSLE (Root Mean Squared Logarithmic Error) evaluation\n",
    "# Reference: https://www.kaggle.com/code/carlolepelaars/understanding-the-metric-rmsle\n",
    "train['Calories'] = np.log1p(train['Calories'])  # log1p = log(x + 1)"
   ]
  },
  {
   "cell_type": "code",
   "execution_count": null,
   "id": "8a659192",
   "metadata": {},
   "outputs": [
    {
     "data": {
      "text/html": [
       "<div>\n",
       "<style scoped>\n",
       "    .dataframe tbody tr th:only-of-type {\n",
       "        vertical-align: middle;\n",
       "    }\n",
       "\n",
       "    .dataframe tbody tr th {\n",
       "        vertical-align: top;\n",
       "    }\n",
       "\n",
       "    .dataframe thead th {\n",
       "        text-align: right;\n",
       "    }\n",
       "</style>\n",
       "<table border=\"1\" class=\"dataframe\">\n",
       "  <thead>\n",
       "    <tr style=\"text-align: right;\">\n",
       "      <th></th>\n",
       "      <th>Age</th>\n",
       "      <th>Height</th>\n",
       "      <th>Weight</th>\n",
       "      <th>Duration</th>\n",
       "      <th>Heart_Rate</th>\n",
       "      <th>Body_Temp</th>\n",
       "      <th>Calories</th>\n",
       "      <th>Sex_male</th>\n",
       "    </tr>\n",
       "  </thead>\n",
       "  <tbody>\n",
       "    <tr>\n",
       "      <th>0</th>\n",
       "      <td>36</td>\n",
       "      <td>189.0</td>\n",
       "      <td>82.0</td>\n",
       "      <td>26.0</td>\n",
       "      <td>101.0</td>\n",
       "      <td>41.0</td>\n",
       "      <td>5.017280</td>\n",
       "      <td>True</td>\n",
       "    </tr>\n",
       "    <tr>\n",
       "      <th>1</th>\n",
       "      <td>64</td>\n",
       "      <td>163.0</td>\n",
       "      <td>60.0</td>\n",
       "      <td>8.0</td>\n",
       "      <td>85.0</td>\n",
       "      <td>39.7</td>\n",
       "      <td>3.555348</td>\n",
       "      <td>False</td>\n",
       "    </tr>\n",
       "    <tr>\n",
       "      <th>2</th>\n",
       "      <td>51</td>\n",
       "      <td>161.0</td>\n",
       "      <td>64.0</td>\n",
       "      <td>7.0</td>\n",
       "      <td>84.0</td>\n",
       "      <td>39.8</td>\n",
       "      <td>3.401197</td>\n",
       "      <td>False</td>\n",
       "    </tr>\n",
       "    <tr>\n",
       "      <th>3</th>\n",
       "      <td>20</td>\n",
       "      <td>192.0</td>\n",
       "      <td>90.0</td>\n",
       "      <td>25.0</td>\n",
       "      <td>105.0</td>\n",
       "      <td>40.7</td>\n",
       "      <td>4.948760</td>\n",
       "      <td>True</td>\n",
       "    </tr>\n",
       "    <tr>\n",
       "      <th>4</th>\n",
       "      <td>38</td>\n",
       "      <td>166.0</td>\n",
       "      <td>61.0</td>\n",
       "      <td>25.0</td>\n",
       "      <td>102.0</td>\n",
       "      <td>40.6</td>\n",
       "      <td>4.990433</td>\n",
       "      <td>False</td>\n",
       "    </tr>\n",
       "  </tbody>\n",
       "</table>\n",
       "</div>"
      ],
      "text/plain": [
       "   Age  Height  Weight  Duration  Heart_Rate  Body_Temp  Calories  Sex_male\n",
       "0   36   189.0    82.0      26.0       101.0       41.0  5.017280      True\n",
       "1   64   163.0    60.0       8.0        85.0       39.7  3.555348     False\n",
       "2   51   161.0    64.0       7.0        84.0       39.8  3.401197     False\n",
       "3   20   192.0    90.0      25.0       105.0       40.7  4.948760      True\n",
       "4   38   166.0    61.0      25.0       102.0       40.6  4.990433     False"
      ]
     },
     "execution_count": 8,
     "metadata": {},
     "output_type": "execute_result"
    }
   ],
   "source": [
    "# Display the first few rows of the preprocessed training data\n",
    "# This allows us to verify that:\n",
    "# 1. The 'id' column has been removed\n",
    "# 2. 'Sex' has been one-hot encoded (now appears as 'Sex_male')\n",
    "# 3. 'Calories' has been log-transformed (values should be smaller and less skewed)\n",
    "train.head()\n"
   ]
  },
  {
   "cell_type": "code",
   "execution_count": null,
   "id": "852da683",
   "metadata": {},
   "outputs": [],
   "source": [
    "# Save preprocessed datasets for later use in modeling steps\n",
    "# This allows us to quickly load these preprocessed datasets in future notebooks\n",
    "# without repeating the preprocessing steps\n",
    "train.to_csv('datasets/train_preprocessed.csv', index=False)  # Save preprocessed training data\n",
    "test.to_csv('datasets/test_preprocessed.csv', index=False)    # Save preprocessed test data\n",
    "pd.DataFrame({'id': test_ids}).to_csv('datasets/test_ids.csv', index=False)  # Save test IDs separately for submission file creation\n"
   ]
  }
 ],
 "metadata": {
  "kernelspec": {
   "display_name": "Python 3",
   "language": "python",
   "name": "python3"
  },
  "language_info": {
   "codemirror_mode": {
    "name": "ipython",
    "version": 3
   },
   "file_extension": ".py",
   "mimetype": "text/x-python",
   "name": "python",
   "nbconvert_exporter": "python",
   "pygments_lexer": "ipython3",
   "version": "3.11.1"
  }
 },
 "nbformat": 4,
 "nbformat_minor": 5
}
