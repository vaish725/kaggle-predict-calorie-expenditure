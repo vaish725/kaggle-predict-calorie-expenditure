{
 "cells": [
  {
   "cell_type": "markdown",
   "id": "fa02d8d4",
   "metadata": {},
   "source": [
    "# Step 2B: Advanced Feature Engineering\n",
    "Create new informative features that may reveal hidden patterns.\n",
    "\n",
    "## Overview:\n",
    "This notebook focuses on creating domain-specific derived features to enhance the predictive power of our models. By leveraging domain knowledge in exercise physiology and calorie expenditure factors, we engineer features that capture important relationships between existing variables.\n",
    "\n"
   ]
  },
  {
   "cell_type": "code",
   "execution_count": 11,
   "id": "54b56541",
   "metadata": {},
   "outputs": [],
   "source": [
    "# Import essential libraries for data manipulation and numerical operations\n",
    "import pandas as pd  # For data manipulation and analysis\n",
    "import numpy as np   # For numerical operations\n",
    "\n",
    "# Load preprocessed datasets from Step 2 that contain:\n",
    "# - Encoded categorical features (Sex_male)\n",
    "# - Log-transformed target variable (Calories)\n",
    "# - Removed ID columns\n",
    "train = pd.read_csv('datasets/train_preprocessed.csv')  # Training dataset with target variable\n",
    "test = pd.read_csv('datasets/test_preprocessed.csv')    # Test dataset for predictions"
   ]
  },
  {
   "cell_type": "markdown",
   "id": "ee05c13a",
   "metadata": {},
   "source": [
    "## 1. Add BMI (Body Mass Index)\n",
    "\n",
    "BMI is a well-established indicator of body composition calculated from height and weight.\n",
    "Higher BMI may affect calorie expenditure during exercise through:\n",
    "- Metabolic rate differences\n",
    "- Effort required to move a larger body mass\n",
    "- Potential differences in exercise efficiency\n",
    "\n",
    "**Formula**: BMI = Weight (kg) / (Height (m))²"
   ]
  },
  {
   "cell_type": "code",
   "execution_count": 12,
   "id": "ba8ee649",
   "metadata": {},
   "outputs": [],
   "source": [
    "# Calculate Body Mass Index (BMI) for both training and test datasets\n",
    "# Formula: BMI = Weight (kg) / (Height (m))²\n",
    "# Height is given in cm, so we divide by 100 to convert to meters before squaring\n",
    "train['BMI'] = train['Weight'] / ((train['Height'] / 100) ** 2)  # Calculate BMI for training data\n",
    "test['BMI'] = test['Weight'] / ((test['Height'] / 100) ** 2)     # Calculate BMI for test data"
   ]
  },
  {
   "cell_type": "markdown",
   "id": "5cf2e95d",
   "metadata": {},
   "source": [
    "## 2. Add Intensity (Heart Rate / Duration)\n",
    "\n",
    "Exercise intensity is a critical factor in determining calorie expenditure. By dividing heart rate by duration, we create a feature that captures:\n",
    "- Exercise effort level per unit time\n",
    "- Efficiency of energy expenditure\n",
    "- Potential for higher caloric burn rates during shorter, more intense workouts\n",
    "\n",
    "**Formula**: Intensity = Heart Rate (bpm) / Duration (minutes)"
   ]
  },
  {
   "cell_type": "code",
   "execution_count": null,
   "id": "14f698cc",
   "metadata": {},
   "outputs": [],
   "source": [
    "# Create Intensity feature by dividing Heart Rate by Duration\n",
    "# This captures the average heart rate per minute of exercise\n",
    "# Higher values suggest more intense exercise that may burn calories at a faster rate\n",
    "train['Intensity'] = train['Heart_Rate'] / train['Duration']  # Calculate for training data\n",
    "test['Intensity'] = test['Heart_Rate'] / test['Duration']     # Calculate for test data"
   ]
  },
  {
   "cell_type": "markdown",
   "id": "4a7b011f",
   "metadata": {},
   "source": [
    "## 3. Add Temp_Heart Interaction (Body Temp × Heart Rate)\n",
    "\n",
    "Body temperature and heart rate both independently correlate with calorie expenditure, but their interaction may provide additional insights:\n",
    "- Higher heart rates combined with higher body temperatures may indicate more strenuous exercise\n"
   ]
  },
  {
   "cell_type": "code",
   "execution_count": null,
   "id": "f5754205",
   "metadata": {},
   "outputs": [],
   "source": [
    "# Create interaction feature between Body Temperature and Heart Rate\n",
    "# This captures the relationship between two physiological parameters that both \n",
    "# indicate exercise intensity and metabolic rate\n",
    "# Higher values may indicate more intense physiological stress and higher calorie burn\n",
    "train['TempHeart'] = train['Body_Temp'] * train['Heart_Rate']  # Calculate for training data\n",
    "test['TempHeart'] = test['Body_Temp'] * test['Heart_Rate']    # Calculate for test data"
   ]
  },
  {
   "cell_type": "markdown",
   "id": "bc09f07a",
   "metadata": {},
   "source": [
    "## 4. Add Squared Duration (nonlinear feature)\n",
    "\n",
    "Duration shows a strong correlation with calorie expenditure, but this relationship may not be perfectly linear:\n",
    "- Energy systems shift from aerobic to anaerobic during longer exercise periods\n",
    "- Fatigue factors may affect efficiency in longer workouts\n",
    "- Including a quadratic term allows models to capture potential non-linear relationships\n"
   ]
  },
  {
   "cell_type": "code",
   "execution_count": null,
   "id": "888af771",
   "metadata": {},
   "outputs": [],
   "source": [
    "# Create squared duration feature to capture potential nonlinear relationships\n",
    "# Square transformation can help models fit curved relationships between duration and calories\n",
    "# This is a common polynomial feature engineering technique to represent nonlinear patterns\n",
    "train['Duration2'] = train['Duration'] ** 2  # Square duration for training data\n",
    "test['Duration2'] = test['Duration'] ** 2   # Square duration for test data"
   ]
  },
  {
   "cell_type": "code",
   "execution_count": null,
   "id": "5e917628",
   "metadata": {},
   "outputs": [
    {
     "name": "stdout",
     "output_type": "stream",
     "text": [
      "Feature-engineered datasets saved.\n"
     ]
    }
   ],
   "source": [
    "# Save the feature-engineered datasets to CSV files\n",
    "# These will be used in subsequent modeling notebooks\n",
    "# The '_fe' suffix indicates these datasets contain the additional engineered features\n",
    "train.to_csv('datasets/train_fe.csv', index=False)  # Save training data with new features\n",
    "test.to_csv('datasets/test_fe.csv', index=False)    # Save test data with new features\n",
    "print(\"Feature-engineered datasets saved.\")"
   ]
  },
  {
   "cell_type": "code",
   "execution_count": null,
   "id": "2e96b3ea",
   "metadata": {},
   "outputs": [
    {
     "name": "stdout",
     "output_type": "stream",
     "text": [
      "<class 'pandas.core.frame.DataFrame'>\n",
      "RangeIndex: 750000 entries, 0 to 749999\n",
      "Data columns (total 12 columns):\n",
      " #   Column      Non-Null Count   Dtype  \n",
      "---  ------      --------------   -----  \n",
      " 0   Age         750000 non-null  int64  \n",
      " 1   Height      750000 non-null  float64\n",
      " 2   Weight      750000 non-null  float64\n",
      " 3   Duration    750000 non-null  float64\n",
      " 4   Heart_Rate  750000 non-null  float64\n",
      " 5   Body_Temp   750000 non-null  float64\n",
      " 6   Calories    750000 non-null  float64\n",
      " 7   Sex_male    750000 non-null  bool   \n",
      " 8   BMI         750000 non-null  float64\n",
      " 9   Intensity   750000 non-null  float64\n",
      " 10  TempHeart   750000 non-null  float64\n",
      " 11  Duration2   750000 non-null  float64\n",
      "dtypes: bool(1), float64(10), int64(1)\n",
      "memory usage: 63.7 MB\n",
      "<class 'pandas.core.frame.DataFrame'>\n",
      "RangeIndex: 250000 entries, 0 to 249999\n",
      "Data columns (total 11 columns):\n",
      " #   Column      Non-Null Count   Dtype  \n",
      "---  ------      --------------   -----  \n",
      " 0   Age         250000 non-null  int64  \n",
      " 1   Height      250000 non-null  float64\n",
      " 2   Weight      250000 non-null  float64\n",
      " 3   Duration    250000 non-null  float64\n",
      " 4   Heart_Rate  250000 non-null  float64\n",
      " 5   Body_Temp   250000 non-null  float64\n",
      " 6   Sex_male    250000 non-null  bool   \n",
      " 7   BMI         250000 non-null  float64\n",
      " 8   Intensity   250000 non-null  float64\n",
      " 9   TempHeart   250000 non-null  float64\n",
      " 10  Duration2   250000 non-null  float64\n",
      "dtypes: bool(1), float64(9), int64(1)\n",
      "memory usage: 19.3 MB\n",
      "missing values in train dataset:\n",
      "Age           0\n",
      "Height        0\n",
      "Weight        0\n",
      "Duration      0\n",
      "Heart_Rate    0\n",
      "Body_Temp     0\n",
      "Calories      0\n",
      "Sex_male      0\n",
      "BMI           0\n",
      "Intensity     0\n",
      "TempHeart     0\n",
      "Duration2     0\n",
      "dtype: int64\n",
      "missing values in test dataset:\n",
      "Age           0\n",
      "Height        0\n",
      "Weight        0\n",
      "Duration      0\n",
      "Heart_Rate    0\n",
      "Body_Temp     0\n",
      "Sex_male      0\n",
      "BMI           0\n",
      "Intensity     0\n",
      "TempHeart     0\n",
      "Duration2     0\n",
      "dtype: int64\n",
      "outliers in train dataset:\n"
     ]
    },
    {
     "data": {
      "text/plain": [
       "(Age           0\n",
       " Height        0\n",
       " Weight        0\n",
       " Duration      0\n",
       " Heart_Rate    0\n",
       " Body_Temp     0\n",
       " Calories      0\n",
       " Sex_male      0\n",
       " BMI           0\n",
       " Intensity     0\n",
       " TempHeart     0\n",
       " Duration2     0\n",
       " dtype: int64,\n",
       " Age           0\n",
       " Height        0\n",
       " Weight        0\n",
       " Duration      0\n",
       " Heart_Rate    0\n",
       " Body_Temp     0\n",
       " Sex_male      0\n",
       " BMI           0\n",
       " Intensity     0\n",
       " TempHeart     0\n",
       " Duration2     0\n",
       " dtype: int64,\n",
       "                  Age         Height         Weight       Duration  \\\n",
       " count  750000.000000  750000.000000  750000.000000  750000.000000   \n",
       " mean       41.420404     174.697685      75.145668      15.421015   \n",
       " std        15.175049      12.824496      13.982704       8.354095   \n",
       " min        20.000000     126.000000      36.000000       1.000000   \n",
       " 25%        28.000000     164.000000      63.000000       8.000000   \n",
       " 50%        40.000000     174.000000      74.000000      15.000000   \n",
       " 75%        52.000000     185.000000      87.000000      23.000000   \n",
       " max        79.000000     222.000000     132.000000      30.000000   \n",
       " \n",
       "           Heart_Rate      Body_Temp       Calories            BMI  \\\n",
       " count  750000.000000  750000.000000  750000.000000  750000.000000   \n",
       " mean       95.483995      40.036253       4.141144      24.374817   \n",
       " std         9.449845       0.779875       0.963231       1.511310   \n",
       " min        67.000000      37.100000       0.693147      12.375937   \n",
       " 25%        88.000000      39.600000       3.555348      23.255019   \n",
       " 50%        95.000000      40.300000       4.356709      24.391059   \n",
       " 75%       103.000000      40.700000       4.919981      25.487697   \n",
       " max       128.000000      41.500000       5.752573      46.443986   \n",
       " \n",
       "            Intensity      TempHeart      Duration2  \n",
       " count  750000.000000  750000.000000  750000.000000  \n",
       " mean       10.547400    3828.687447     307.598511  \n",
       " std        12.237710     437.967454     266.928280  \n",
       " min         2.714286    2485.700000       1.000000  \n",
       " 25%         4.521739    3497.400000      64.000000  \n",
       " 50%         6.214286    3838.000000     225.000000  \n",
       " 75%        10.750000    4171.500000     529.000000  \n",
       " max       108.000000    5286.400000     900.000000  )"
      ]
     },
     "execution_count": 17,
     "metadata": {},
     "output_type": "execute_result"
    }
   ],
   "source": [
    "# Load the saved feature-engineered datasets to verify their contents\n",
    "# This step confirms that the data was saved correctly and allows us to perform quality checks\n",
    "train_fe = pd.read_csv(\"datasets/train_fe.csv\")  # Load training data with engineered features\n",
    "test_fe = pd.read_csv(\"datasets/test_fe.csv\")    # Load test data with engineered features\n",
    "\n",
    "# Display basic information about the datasets\n",
    "# This shows the data types and non-null counts for each column\n",
    "train_info = train_fe.info()  # Get info on training data structure\n",
    "test_info = test_fe.info()    # Get info on test data structure\n",
    "\n",
    "# Check for missing values in both datasets\n",
    "# Missing values could cause problems in modeling and should be addressed if present\n",
    "print(\"missing values in train dataset:\")\n",
    "missing_train = train_fe.isnull().sum()  # Count missing values per column in training data\n",
    "print(missing_train)\n",
    "\n",
    "print(\"missing values in test dataset:\")\n",
    "missing_test = test_fe.isnull().sum()  # Count missing values per column in test data\n",
    "print(missing_test)\n",
    "\n",
    "# Check for potential outliers by examining statistical summaries\n",
    "# Extreme values might indicate data issues or special cases to handle\n",
    "print(\"outliers in train dataset:\")\n",
    "stats_train = train_fe.describe()  # Get statistical summary for all numeric columns\n",
    "\n",
    "# Return the results for display in the notebook\n",
    "missing_train, missing_test, stats_train\n"
   ]
  },
  {
   "cell_type": "markdown",
   "id": "b34c0a36",
   "metadata": {},
   "source": [
    "### ⚠️ Spotlight on Intensity (Potential Outliers)\n",
    "- Mean: 10.55\n",
    "- Max: 108.0\n",
    "- 75th percentile: 10.75\n",
    "\n",
    "This means the top 25% ends at 10.75, but the max jumps to 108 — this is a potential outlier range.\n",
    "\n",
    "**Insight:** The large gap between the 75th percentile and the maximum value suggests extreme outliers in the Intensity feature. These outliers could be:\n",
    "- Legitimate high-intensity workout data points\n",
    "- Measurement errors\n",
    "- Data entry issues\n",
    "\n",
    "**Action needed:** Consider handling these outliers in modeling steps through techniques such as:\n",
    "- Robust scaling\n",
    "- Winsorization\n",
    "- Using algorithms less sensitive to outliers (e.g., tree-based models)"
   ]
  },
  {
   "cell_type": "markdown",
   "id": "82ad9106",
   "metadata": {},
   "source": [
    "### ✅ Clean Features Summary\n",
    "\n",
    "- **All columns are complete**:\n",
    "  - No missing values detected\n",
    "  - No need for imputation techniques\n",
    "  \n",
    "- **Feature quality**:\n",
    "  - Reasonable ranges for most features\n",
    "  - Intensity feature has some extreme values (addressed above)\n",
    "  \n",
    "- **Target variable**:\n",
    "  - Calories is log-transformed and well-scaled\n",
    "  - This should help machine learning algorithms converge more effectively\n",
    "  \n",
    "**Next Steps:**\n",
    "- Proceed to modeling with these engineered features\n",
    "- Consider creating separate versions with and without the squared duration feature to evaluate its impact\n",
    "- Monitor the influence of Intensity feature in models to determine if outlier handling is necessary"
   ]
  }
 ],
 "metadata": {
  "kernelspec": {
   "display_name": "Python 3",
   "language": "python",
   "name": "python3"
  },
  "language_info": {
   "codemirror_mode": {
    "name": "ipython",
    "version": 3
   },
   "file_extension": ".py",
   "mimetype": "text/x-python",
   "name": "python",
   "nbconvert_exporter": "python",
   "pygments_lexer": "ipython3",
   "version": "3.11.1"
  }
 },
 "nbformat": 4,
 "nbformat_minor": 5
}
