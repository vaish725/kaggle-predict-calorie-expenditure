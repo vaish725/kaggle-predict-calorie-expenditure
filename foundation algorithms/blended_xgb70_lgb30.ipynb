{
 "cells": [
  {
   "cell_type": "code",
   "execution_count": 4,
   "id": "b20fec62",
   "metadata": {},
   "outputs": [],
   "source": [
    "import pandas as pd\n",
    "import numpy as np\n",
    "import os\n",
    "\n",
    "# Load the prediction files\n",
    "xgb_file = \"datasets/submissions/submission_xgb_fe_v2_FIXED.csv\"\n",
    "lgb_file = \"datasets/submissions/submission_lgbm_optuna_may21_FIXED.csv\"\n",
    "\n",
    "xgb_df = pd.read_csv(xgb_file)\n",
    "lgb_df = pd.read_csv(lgb_file)\n",
    "\n",
    "# Ensure the IDs match\n",
    "assert (xgb_df['id'] == lgb_df['id']).all(), \"IDs do not match between the two submission files.\"\n",
    "\n",
    "# Weighted blending: 70% XGBoost + 30% LightGBM\n",
    "blended_preds = 0.7 * xgb_df['Calories'] + 0.3 * lgb_df['Calories']\n",
    "\n",
    "# Create the submission DataFrame\n",
    "submission_blended = pd.DataFrame({\n",
    "    'id': xgb_df['id'],\n",
    "    'Calories': blended_preds\n",
    "})\n",
    "\n",
    "# Save the blended submission file\n",
    "output_path = \"datasets/submissions/submission_blended_xgb70_lgb30_may21.csv\"\n",
    "submission_blended.to_csv(output_path, index=False)\n",
    "\n",
    "\n"
   ]
  },
  {
   "cell_type": "code",
   "execution_count": null,
   "id": "d0115fc2",
   "metadata": {},
   "outputs": [],
   "source": []
  }
 ],
 "metadata": {
  "kernelspec": {
   "display_name": "Python 3",
   "language": "python",
   "name": "python3"
  },
  "language_info": {
   "codemirror_mode": {
    "name": "ipython",
    "version": 3
   },
   "file_extension": ".py",
   "mimetype": "text/x-python",
   "name": "python",
   "nbconvert_exporter": "python",
   "pygments_lexer": "ipython3",
   "version": "3.11.1"
  }
 },
 "nbformat": 4,
 "nbformat_minor": 5
}
